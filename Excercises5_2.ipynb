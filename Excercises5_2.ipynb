{
 "cells": [
  {
   "cell_type": "code",
   "execution_count": 1,
   "id": "0a038fca-b832-48f6-bedb-0b16dae484c0",
   "metadata": {},
   "outputs": [],
   "source": [
    "import numpy as np\n",
    "from matplotlib import pyplot as plt\n",
    "from scipy.stats import multivariate_normal, invwishart\n",
    "import seaborn as sns"
   ]
  },
  {
   "cell_type": "code",
   "execution_count": 2,
   "id": "4fca238b-6f09-4c39-8b0f-fd6aee7c732f",
   "metadata": {},
   "outputs": [],
   "source": [
    "wd = '/nfs/scistore12/gaspgrp/emaksimo/courses/CompBayesStat/data'\n",
    "yorange = np.genfromtxt('{}/bluecrab.dat'.format(wd))\n",
    "yblue = np.genfromtxt('{}/orangecrab.dat'.format(wd))\n",
    "y = np.array((yorange, yblue))"
   ]
  },
  {
   "cell_type": "code",
   "execution_count": 3,
   "id": "241cddd8-3a00-4aab-bf36-ddfaab2564cd",
   "metadata": {},
   "outputs": [],
   "source": [
    "mu0 = np.array((np.mean(yorange, axis = 0), np.mean(yblue, axis = 0)))\n",
    "L0 = np.array((np.cov(yorange.T), np.cov(yblue.T)))\n",
    "S0 = np.array((np.cov(yorange.T), np.cov(yblue.T)))\n",
    "v0 = 4\n",
    "n = yorange.shape[0]\n",
    "size = 10000"
   ]
  },
  {
   "cell_type": "code",
   "execution_count": 4,
   "id": "db14a05c-862b-4877-ba48-c3fec1f9f4ed",
   "metadata": {},
   "outputs": [],
   "source": [
    "def Gibbs(mu0, L0, S0, v0, n, y, size):\n",
    "    theta = np.zeros((size+1, y.shape[1]))\n",
    "    Sigma = np.empty((size+1,y.shape[1], y.shape[1]))\n",
    "    Sigma[0] = np.cov(y.T)\n",
    "    for s in range(1, size+1):\n",
    "        # sample theta\n",
    "        Ln = np.linalg.inv(np.linalg.inv(L0) + n * np.linalg.inv(Sigma[s-1]))\n",
    "        mun = Ln @ (np.linalg.inv(L0) @ mu0 + n * np.linalg.inv(Sigma[s-1]) @ np.mean(y, axis = 0))\n",
    "        theta[s] = multivariate_normal.rvs(mean=mun, cov=Ln, size=1)\n",
    "        #sample Sigma\n",
    "        Sn = S0 + np.sum((y - theta[s]) @ (y - theta[s]).T)\n",
    "        Sigma[s] = invwishart.rvs(df=v0+n , scale=Sn, size=1)\n",
    "    return theta[1:], Sigma[1:]"
   ]
  },
  {
   "cell_type": "code",
   "execution_count": 5,
   "id": "0f31640a-2253-4caf-8525-f0a7ba3da079",
   "metadata": {},
   "outputs": [],
   "source": [
    "theta = np.zeros((2, size, yorange.shape[1]))\n",
    "Sigma = np.empty((2, size, yorange.shape[1], yorange.shape[1]))\n",
    "for i in range(2):\n",
    "    theta[i], Sigma[i] = Gibbs(mu0[i], L0[i], S0[i], v0, n, y[i], size)"
   ]
  },
  {
   "cell_type": "code",
   "execution_count": 6,
   "id": "fdfacf38-358a-4360-a7ff-72e206a87a2e",
   "metadata": {},
   "outputs": [],
   "source": [
    "def get_rho(M):\n",
    "    # assert M.shape == (2,2)\n",
    "    return (M/np.sqrt(np.outer(np.diag(M),np.diag(M))))[0,1]"
   ]
  },
  {
   "cell_type": "code",
   "execution_count": 7,
   "id": "263174d2-1dec-45a0-aad4-99ea558b3f62",
   "metadata": {},
   "outputs": [],
   "source": [
    "vec_rho = np.empty((2, size))\n",
    "for j in range(2):\n",
    "    vec_rho[j] = np.array([get_rho(Sigma[j, i]) for i in range(size)])"
   ]
  },
  {
   "cell_type": "code",
   "execution_count": 18,
   "id": "06fe1025-debb-4d6a-993b-fd85a2e9cc4c",
   "metadata": {},
   "outputs": [
    {
     "name": "stdout",
     "output_type": "stream",
     "text": [
      "0.9341\n",
      "0.9988\n",
      "0.76\n",
      "0.98\n"
     ]
    }
   ],
   "source": [
    "print(np.sum(theta[0, :, 0] < theta[1, :, 0])/size) #t1orange < t1blue\n",
    "print(np.sum(theta[0, :, 1] < theta[1, :, 1])/size) #t2orange < t2blue\n",
    "print(np.sum(y[0, :, 0] < y[1, :, 0])/n) #y1orange < y1blue\n",
    "print(np.sum(y[0, :, 1] < y[1, :, 1])/n) #y2orange < y2blue"
   ]
  },
  {
   "cell_type": "code",
   "execution_count": 17,
   "id": "b0493a3a-8ccf-4436-9ebc-b6a82851a95b",
   "metadata": {},
   "outputs": [
    {
     "data": {
      "text/plain": [
       "[Text(0.5, 0, '$\\\\rho$ blue'), Text(0, 0.5, 'Density')]"
      ]
     },
     "execution_count": 17,
     "metadata": {},
     "output_type": "execute_result"
    },
    {
     "data": {
      "image/png": "[encoded data removed]",
      "text/plain": [
       "<Figure size 864x576 with 4 Axes>"
      ]
     },
     "metadata": {
      "needs_background": "light"
     },
     "output_type": "display_data"
    }
   ],
   "source": [
    "fig, ax = plt.subplots(2,2, figsize = (12,8), sharex = 'row', sharey = 'row')\n",
    "\n",
    "ax[0,0].scatter(theta[0,:,0], theta[0,:,1], c='C1', label = 'Posterior mean')\n",
    "ax[0,1].scatter(theta[1,:,0], theta[1,:,1], label = 'Posterior mean')\n",
    "\n",
    "ax[0,0].scatter(y[0,:,0], y[0,:,1], c='C2', label = 'Observed data')\n",
    "ax[0,1].scatter(y[1,:,0], y[1,:,1], c = 'C3', label = 'Observed data')\n",
    "\n",
    "ax[0,0].legend()\n",
    "ax[0,1].legend()\n",
    "\n",
    "ax[1,0].hist(vec_rho[0], density = True, alpha = 0.5, color = 'C1')\n",
    "ax[1,1].hist(vec_rho[1], density = True, alpha = 0.5)\n",
    "\n",
    "ax[0,0].set(title = \"Orange crab\", xlabel = '$\\\\theta_1$, body depth, mm', ylabel = '$\\\\theta_2$, rear width, mm')\n",
    "ax[0,1].set(title = \"Blue crab\", xlabel = '$\\\\theta_1$, body depth, mm', ylabel = '$\\\\theta_2$, rear width, mm')\n",
    "\n",
    "ax[1,0].set(xlabel = '$\\\\rho$ orange', ylabel = 'Density')\n",
    "ax[1,1].set(xlabel = '$\\\\rho$ blue', ylabel = 'Density')\n",
    "\n",
    "# plt.savefig('/nfs/scistore12/gaspgrp/emaksimo/courses/CompBayesStat/plots/Ex5_2_Fig1.png')"
   ]
  },
  {
   "cell_type": "code",
   "execution_count": 10,
   "id": "9f2be3b1-7fda-4eff-b4d1-2b0caf6916b1",
   "metadata": {},
   "outputs": [
    {
     "data": {
      "text/plain": [
       "0.4986"
      ]
     },
     "execution_count": 10,
     "metadata": {},
     "output_type": "execute_result"
    }
   ],
   "source": [
    "np.sum(vec_rho[1]<vec_rho[0])/size"
   ]
  },
  {
   "cell_type": "code",
   "execution_count": null,
   "id": "b55963b6-20eb-4842-a72e-8bcd4748305c",
   "metadata": {},
   "outputs": [],
   "source": []
  }
 ],
 "metadata": {
  "kernelspec": {
   "display_name": "Python 3 (ipykernel)",
   "language": "python",
   "name": "python3"
  },
  "language_info": {
   "codemirror_mode": {
    "name": "ipython",
    "version": 3
   },
   "file_extension": ".py",
   "mimetype": "text/x-python",
   "name": "python",
   "nbconvert_exporter": "python",
   "pygments_lexer": "ipython3",
   "version": "3.9.9"
  }
 },
 "nbformat": 4,
 "nbformat_minor": 5
}
