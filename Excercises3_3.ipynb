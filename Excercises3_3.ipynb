{
 "cells": [
  {
   "cell_type": "code",
   "execution_count": 14,
   "id": "0a038fca-b832-48f6-bedb-0b16dae484c0",
   "metadata": {},
   "outputs": [],
   "source": [
    "import numpy as np\n",
    "# import pandas as pd\n",
    "# import seaborn as sns\n",
    "from matplotlib import pyplot as plt\n",
    "from scipy.stats import binom, beta, uniform, gamma, poisson,nbinom"
   ]
  },
  {
   "cell_type": "code",
   "execution_count": 15,
   "id": "b7254e19-5cc1-4059-91df-4144785f33c0",
   "metadata": {},
   "outputs": [],
   "source": [
    "yA=np.array([12,9,12,14,13,13,15,8,15,6])\n",
    "yB=np.array([11,11,10,9,9,8,7,10,6,8,8,9,7])\n",
    "thetaA=gamma(a = 120, scale=1/10)\n",
    "thetaB=gamma(a = 12, scale=1/1)\n",
    "size=10000"
   ]
  },
  {
   "cell_type": "markdown",
   "id": "fb7fa74b-2328-4860-bd66-1b199c8df3cc",
   "metadata": {},
   "source": [
    "### a) independent thetaA and thetaB"
   ]
  },
  {
   "cell_type": "code",
   "execution_count": 26,
   "id": "38939767-4af6-48d6-8a7d-49c5af694c8e",
   "metadata": {},
   "outputs": [
    {
     "name": "stdout",
     "output_type": "stream",
     "text": [
      "0.9964\n",
      "0.693\n",
      "0.6985\n"
     ]
    }
   ],
   "source": [
    "thetaA_yA = gamma.rvs(a=120+sum(yA), scale=1/(10+len(yA)), size=size)\n",
    "thetaB_yB = gamma.rvs(a=12+sum(yB), scale=1/(1+len(yB)), size=size)\n",
    "YtA = nbinom.rvs(n=120+sum(yA),p=(10+len(yA))/(10+len(yA)+1), size=size)\n",
    "YtB = nbinom.rvs(n=12+sum(yB),p=(1+len(yB))/(1+1+len(yB)), size=size)\n",
    "\n",
    "YtA1 = poisson.rvs(thetaA_yA, size=size)\n",
    "YtB1 = poisson.rvs(thetaB_yB, size=size)\n",
    "\n",
    "print(np.sum(thetaA_yA>thetaB_yB)/size)\n",
    "print(np.sum(YtA>YtB)/size)\n",
    "print(np.sum(YtA1>YtB1)/size)"
   ]
  },
  {
   "cell_type": "code",
   "execution_count": 34,
   "id": "7ecc3028-4b65-4ad3-867a-ddcc3cf8a74a",
   "metadata": {},
   "outputs": [
    {
     "data": {
      "text/plain": [
       "113"
      ]
     },
     "execution_count": 34,
     "metadata": {},
     "output_type": "execute_result"
    }
   ],
   "source": [
    "sum(yB)"
   ]
  },
  {
   "cell_type": "markdown",
   "id": "ef2d6b6f-4ad2-47e2-a835-0e99d5d03832",
   "metadata": {},
   "source": [
    "### b) various n0 for thetaB"
   ]
  },
  {
   "cell_type": "code",
   "execution_count": 31,
   "id": "6b4b15a1-b73e-43e8-965b-d8122a694dc7",
   "metadata": {},
   "outputs": [],
   "source": [
    "n0ar = np.arange(1, 250)\n",
    "prob = np.zeros(len(n0ar))\n",
    "prob_y = np.zeros(len(n0ar))\n",
    "prob_y1 = np.zeros(len(n0ar))\n",
    "for i, n0 in enumerate(n0ar):\n",
    "    thetaA_yA = gamma.rvs(a=120+sum(yA), scale=1/(10+len(yA)), size=size)\n",
    "    thetaB_yB = gamma.rvs(a=12*n0+sum(yB), scale=1/(1*n0+len(yB)), size=size)\n",
    "    YtA = nbinom.rvs(n=120+sum(yA),p=(10+len(yA))/(10+len(yA)+1), size=size)\n",
    "    YtB = nbinom.rvs(n=12*n0+sum(yB),p=(1*n0+len(yB))/(1*n0+1+len(yB)), size=size)\n",
    "    YtA1 = poisson.rvs(thetaA_yA, size=size)\n",
    "    YtB1 = poisson.rvs(thetaB_yB, size=size)\n",
    "    prob[i] = np.sum(thetaA_yA>thetaB_yB)/size\n",
    "    prob_y[i] = np.sum(YtA>YtB)/size\n",
    "    prob_y1[i] = np.sum(YtA1>YtB1)/size"
   ]
  },
  {
   "cell_type": "code",
   "execution_count": 32,
   "id": "b0493a3a-8ccf-4436-9ebc-b6a82851a95b",
   "metadata": {},
   "outputs": [
    {
     "data": {
      "image/png": "[encoded data removed]",
      "text/plain": [
       "<Figure size 432x288 with 1 Axes>"
      ]
     },
     "metadata": {
      "needs_background": "light"
     },
     "output_type": "display_data"
    }
   ],
   "source": [
    "plt.figure(figsize = (6,4))\n",
    "plt.plot(n0ar, prob, label = '$Pr(\\\\theta_A > \\\\theta_B | y_A, y_B)$')\n",
    "plt.plot(n0ar, prob_y, label = '$Pr(\\\\tilde{Y}_A > \\\\tilde{Y}_B | y_A, y_B)$, from nbinom')\n",
    "plt.plot(n0ar, prob_y1, label = '$Pr(\\\\tilde{Y}_A > \\\\tilde{Y}_B | y_A, y_B)$, from poisson')\n",
    "plt.xlabel('$n_0$')\n",
    "plt.ylabel('Probability')\n",
    "plt.legend()\n",
    "plt.savefig('/nfs/scistore12/gaspgrp/emaksimo/courses/CompBayesStat/plots/Ex3_3_Fig1.png')"
   ]
  },
  {
   "cell_type": "code",
   "execution_count": 30,
   "id": "c8c72543-352c-403d-9b1b-e2ff6b64221e",
   "metadata": {},
   "outputs": [
    {
     "data": {
      "text/plain": [
       "array([0., 0., 0., 0., 0., 0., 0., 0., 0., 0., 0., 0., 0., 0., 0., 0., 0.,\n",
       "       0., 0., 0., 0., 0., 0., 0., 0., 0., 0., 0., 0., 0., 0., 0., 0., 0.,\n",
       "       0., 0., 0., 0., 0., 0., 0., 0., 0., 0., 0., 0., 0., 0., 0., 0., 0.,\n",
       "       0., 0., 0., 0., 0., 0., 0., 0., 0., 0., 0., 0., 0., 0., 0., 0., 0.,\n",
       "       0., 0., 0., 0., 0., 0., 0., 0., 0., 0., 0., 0., 0., 0., 0., 0., 0.,\n",
       "       0., 0., 0., 0., 0., 0., 0., 0., 0., 0., 0., 0., 0., 0., 0., 0., 0.,\n",
       "       0., 0., 0., 0., 0., 0., 0., 0., 0., 0., 0., 0., 0., 0., 0., 0., 0.,\n",
       "       0., 0., 0., 0., 0., 0., 0., 0., 0., 0., 0., 0., 0., 0., 0., 0., 0.,\n",
       "       0., 0., 0., 0., 0., 0., 0., 0., 0., 0., 0., 0., 0., 0., 0., 0., 0.,\n",
       "       0., 0., 0., 0., 0., 0., 0., 0., 0., 0., 0., 0., 0., 0., 0., 0., 0.,\n",
       "       0., 0., 0., 0., 0., 0., 0., 0., 0., 0., 0., 0., 0., 0., 0., 0., 0.,\n",
       "       0., 0., 0., 0., 0., 0., 0., 0., 0., 0., 0., 0., 0., 0., 0., 0., 0.,\n",
       "       0., 0., 0., 0., 0., 0., 0., 0., 0., 0., 0., 0., 0., 0., 0., 0., 0.,\n",
       "       0., 0., 0., 0., 0., 0., 0., 0., 0., 0., 0., 0., 0., 0., 0., 0., 0.,\n",
       "       0., 0., 0., 0., 0., 0., 0., 0., 0., 0., 0.])"
      ]
     },
     "execution_count": 30,
     "metadata": {},
     "output_type": "execute_result"
    }
   ],
   "source": [
    "prob_y"
   ]
  },
  {
   "cell_type": "code",
   "execution_count": null,
   "id": "2f514bac-b15d-4900-ba16-6f28ef45c787",
   "metadata": {},
   "outputs": [],
   "source": []
  }
 ],
 "metadata": {
  "kernelspec": {
   "display_name": "Python 3 (ipykernel)",
   "language": "python",
   "name": "python3"
  },
  "language_info": {
   "codemirror_mode": {
    "name": "ipython",
    "version": 3
   },
   "file_extension": ".py",
   "mimetype": "text/x-python",
   "name": "python",
   "nbconvert_exporter": "python",
   "pygments_lexer": "ipython3",
   "version": "3.9.9"
  }
 },
 "nbformat": 4,
 "nbformat_minor": 5
}
