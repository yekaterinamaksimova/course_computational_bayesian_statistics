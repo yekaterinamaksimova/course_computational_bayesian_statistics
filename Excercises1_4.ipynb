{
 "cells": [
  {
   "cell_type": "code",
   "execution_count": 2,
   "id": "0a038fca-b832-48f6-bedb-0b16dae484c0",
   "metadata": {},
   "outputs": [],
   "source": [
    "import numpy as np\n",
    "# import pandas as pd\n",
    "# import seaborn as sns\n",
    "from matplotlib import pyplot as plt\n",
    "from scipy.stats import binom, beta, uniform, gamma, poisson"
   ]
  },
  {
   "cell_type": "code",
   "execution_count": 3,
   "id": "b7254e19-5cc1-4059-91df-4144785f33c0",
   "metadata": {},
   "outputs": [],
   "source": [
    "yA=np.array([12,9,12,14,13,13,15,8,15,6])\n",
    "yB=np.array([11,11,10,9,9,8,7,10,6,8,8,9,7])\n",
    "thetaA=gamma(a = 120, scale=1/10)\n",
    "thetaB=gamma(a = 12, scale=1/1)"
   ]
  },
  {
   "cell_type": "markdown",
   "id": "fb7fa74b-2328-4860-bd66-1b199c8df3cc",
   "metadata": {},
   "source": [
    "### a) independent thetaA and thetaB"
   ]
  },
  {
   "cell_type": "code",
   "execution_count": 4,
   "id": "38939767-4af6-48d6-8a7d-49c5af694c8e",
   "metadata": {},
   "outputs": [
    {
     "name": "stdout",
     "output_type": "stream",
     "text": [
      "Mean 11.85, variance 0.59, CI 95% (10.389238190941795, 13.405448325642006)\n",
      "Mean 8.93, variance 0.64, CI 95% (7.432064219464302, 10.560308149242363)\n"
     ]
    }
   ],
   "source": [
    "thetaA_yA = gamma(a=120+sum(yA), scale=1/(10+len(yA)))\n",
    "thetaB_yB = gamma(a=12+sum(yB), scale=1/(1+len(yB)))\n",
    "\n",
    "print('Mean {:.2f}, variance {:.2f}, CI 95% {}'.format(thetaA_yA.mean(),thetaA_yA.var(),thetaA_yA.interval(alpha=0.95)))\n",
    "print('Mean {:.2f}, variance {:.2f}, CI 95% {}'.format(thetaB_yB.mean(),thetaB_yB.var(),thetaB_yB.interval(alpha=0.95)))"
   ]
  },
  {
   "cell_type": "code",
   "execution_count": 50,
   "id": "ea24fd26-c0a2-4b40-87e3-74df58dd290c",
   "metadata": {},
   "outputs": [
    {
     "data": {
      "text/plain": [
       "113"
      ]
     },
     "execution_count": 50,
     "metadata": {},
     "output_type": "execute_result"
    }
   ],
   "source": [
    "sum(yB)"
   ]
  },
  {
   "cell_type": "markdown",
   "id": "ef2d6b6f-4ad2-47e2-a835-0e99d5d03832",
   "metadata": {},
   "source": [
    "### b) various n0 for thetaB"
   ]
  },
  {
   "cell_type": "code",
   "execution_count": 58,
   "id": "b0493a3a-8ccf-4436-9ebc-b6a82851a95b",
   "metadata": {},
   "outputs": [
    {
     "data": {
      "image/png": "[encoded data removed]",
      "text/plain": [
       "<Figure size 720x216 with 1 Axes>"
      ]
     },
     "metadata": {
      "needs_background": "light"
     },
     "output_type": "display_data"
    }
   ],
   "source": [
    "plt.figure(figsize = (10,3))\n",
    "# x = np.linspace(thetaB1.ppf(0), thetaB1.ppf(0.99), 100)\n",
    "x = np.linspace(1, 21, 100)\n",
    "for n0 in range(207,208,1):\n",
    "    thetaB1 = gamma(a=12*n0+sum(yB), scale=1/(n0+len(yB)))\n",
    "    plt.plot(x, thetaB1.pdf(x), alpha=0.8, linewidth=1, label=n0)\n",
    "    plt.scatter(x[np.argmax(thetaB1.pdf(x))],  np.max(thetaB1.pdf(x)), marker='x', alpha=0.8)\n",
    "    \n",
    "plt.plot(x, thetaA_yA.pdf(x), 'k', linewidth=3, label='thetaA posterior density')\n",
    "\n",
    "plt.vlines(x[np.argmax(thetaA_yA.pdf(x))], 0, np.max(thetaA_yA.pdf(x)), ls=':', color='k', linewidth=2, label = 'thetaA posterior mode')\n",
    "plt.xlabel('Theta')\n",
    "plt.ylabel('Probability')\n",
    "plt.legend()\n",
    "plt.savefig('/nfs/scistore12/gaspgrp/emaksimo/courses/CompBayesStat/plots/Ex1_4_Fig1.png')"
   ]
  },
  {
   "cell_type": "code",
   "execution_count": 10,
   "id": "4a48f807-a486-48f0-90de-50476effb336",
   "metadata": {},
   "outputs": [
    {
     "data": {
      "text/plain": [
       "11.909090909090908"
      ]
     },
     "execution_count": 10,
     "metadata": {},
     "output_type": "execute_result"
    }
   ],
   "source": [
    "x[np.argmax(thetaB1.pdf(x))]"
   ]
  },
  {
   "cell_type": "code",
   "execution_count": 36,
   "id": "90d19fdb-4af8-4f04-8c03-5146685dac9a",
   "metadata": {},
   "outputs": [
    {
     "data": {
      "text/plain": [
       "237"
      ]
     },
     "execution_count": 36,
     "metadata": {},
     "output_type": "execute_result"
    }
   ],
   "source": [
    "120+sum(yA)"
   ]
  },
  {
   "cell_type": "code",
   "execution_count": 38,
   "id": "6ab76fce-a509-484f-b112-b589692a2e8c",
   "metadata": {},
   "outputs": [
    {
     "data": {
      "text/plain": [
       "20"
      ]
     },
     "execution_count": 38,
     "metadata": {},
     "output_type": "execute_result"
    }
   ],
   "source": [
    "(10+len(yA))"
   ]
  },
  {
   "cell_type": "code",
   "execution_count": 40,
   "id": "7f205752-e331-404e-8986-818603d8e020",
   "metadata": {},
   "outputs": [
    {
     "name": "stdout",
     "output_type": "stream",
     "text": [
      "1 125\n",
      "2 137\n",
      "3 149\n",
      "4 161\n",
      "5 173\n",
      "6 185\n",
      "7 197\n",
      "8 209\n",
      "9 221\n",
      "10 233\n",
      "11 245\n",
      "12 257\n",
      "13 269\n",
      "14 281\n",
      "15 293\n",
      "16 305\n",
      "17 317\n",
      "18 329\n",
      "19 341\n",
      "20 353\n",
      "21 365\n",
      "22 377\n",
      "23 389\n",
      "24 401\n",
      "25 413\n",
      "26 425\n",
      "27 437\n",
      "28 449\n",
      "29 461\n",
      "30 473\n",
      "31 485\n",
      "32 497\n",
      "33 509\n",
      "34 521\n",
      "35 533\n",
      "36 545\n",
      "37 557\n",
      "38 569\n",
      "39 581\n",
      "40 593\n",
      "41 605\n",
      "42 617\n",
      "43 629\n",
      "44 641\n",
      "45 653\n",
      "46 665\n",
      "47 677\n",
      "48 689\n",
      "49 701\n",
      "50 713\n"
     ]
    }
   ],
   "source": [
    "for n0 in range(1,51):\n",
    "    print(n0, 12*n0+sum(yB))"
   ]
  },
  {
   "cell_type": "code",
   "execution_count": null,
   "id": "c8c72543-352c-403d-9b1b-e2ff6b64221e",
   "metadata": {},
   "outputs": [],
   "source": []
  }
 ],
 "metadata": {
  "kernelspec": {
   "display_name": "Python 3 (ipykernel)",
   "language": "python",
   "name": "python3"
  },
  "language_info": {
   "codemirror_mode": {
    "name": "ipython",
    "version": 3
   },
   "file_extension": ".py",
   "mimetype": "text/x-python",
   "name": "python",
   "nbconvert_exporter": "python",
   "pygments_lexer": "ipython3",
   "version": "3.9.9"
  }
 },
 "nbformat": 4,
 "nbformat_minor": 5
}
