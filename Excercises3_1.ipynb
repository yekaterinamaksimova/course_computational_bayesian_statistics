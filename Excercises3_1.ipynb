{
 "cells": [
  {
   "cell_type": "code",
   "execution_count": 13,
   "id": "c09663c5-2acb-4086-9806-e6f692af242d",
   "metadata": {},
   "outputs": [],
   "source": [
    "import numpy as np\n",
    "from matplotlib import pyplot as plt\n",
    "from scipy.stats import binom, beta, uniform, logistic\n",
    "# from scipy.special import gamma"
   ]
  },
  {
   "cell_type": "code",
   "execution_count": 3,
   "id": "c97c20df-b6ee-4b30-94f5-69fef2d1bb17",
   "metadata": {},
   "outputs": [],
   "source": [
    "size = 100000"
   ]
  },
  {
   "cell_type": "code",
   "execution_count": 8,
   "id": "e7ea7923-7c4e-4cab-ae11-14e6f921b4f2",
   "metadata": {},
   "outputs": [],
   "source": [
    "x = x = np.linspace(beta.ppf(0.01, a=1, b=1), beta.ppf(0.99, a=1, b=1), 100)\n",
    "theta = beta.rvs(a=1, b=1, size=size)\n",
    "OR = np.log(theta/(1-theta))"
   ]
  },
  {
   "cell_type": "code",
   "execution_count": 9,
   "id": "668791ac-0244-4893-a56d-6e6cb1b90f54",
   "metadata": {},
   "outputs": [
    {
     "data": {
      "text/plain": [
       "array([-0.90520717, -4.41938249,  1.94563637, ..., -1.27823385,\n",
       "        0.33349162,  1.12007216])"
      ]
     },
     "execution_count": 9,
     "metadata": {},
     "output_type": "execute_result"
    }
   ],
   "source": [
    "OR"
   ]
  },
  {
   "cell_type": "markdown",
   "id": "9fa43e07-544b-4ecf-8a88-e02ec3fe8ca2",
   "metadata": {},
   "source": [
    "### Final plot"
   ]
  },
  {
   "cell_type": "code",
   "execution_count": 23,
   "id": "af8426d9-ef0a-44d9-8b84-d155acec89ca",
   "metadata": {},
   "outputs": [
    {
     "data": {
      "image/png": "[encoded data removed]",
      "text/plain": [
       "<Figure size 432x288 with 1 Axes>"
      ]
     },
     "metadata": {
      "needs_background": "light"
     },
     "output_type": "display_data"
    }
   ],
   "source": [
    "plt.figure(figsize = (6,4))\n",
    "# plt.suptitle('Probability of sum(Y)=57 given theta')\n",
    "plt.hist(OR, density=True, bins=30, label= 'OR histogram', alpha=0.3)\n",
    "plt.scatter(OR, logistic.pdf(OR), s=1, label = 'Logistic density (logOR)', color='orange')\n",
    "plt.xlabel('Odds Ratio')\n",
    "plt.ylabel('Density')\n",
    "plt.legend()\n",
    "plt.savefig('/nfs/scistore12/gaspgrp/emaksimo/courses/CompBayesStat/plots/Ex3_1_Fig1.png')"
   ]
  },
  {
   "cell_type": "code",
   "execution_count": null,
   "id": "bc85179d-6f11-45e8-8c04-fd79fcc2200f",
   "metadata": {},
   "outputs": [],
   "source": []
  }
 ],
 "metadata": {
  "kernelspec": {
   "display_name": "Python 3 (ipykernel)",
   "language": "python",
   "name": "python3"
  },
  "language_info": {
   "codemirror_mode": {
    "name": "ipython",
    "version": 3
   },
   "file_extension": ".py",
   "mimetype": "text/x-python",
   "name": "python",
   "nbconvert_exporter": "python",
   "pygments_lexer": "ipython3",
   "version": "3.9.9"
  }
 },
 "nbformat": 4,
 "nbformat_minor": 5
}
