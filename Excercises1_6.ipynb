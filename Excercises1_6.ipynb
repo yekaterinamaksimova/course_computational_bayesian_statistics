{
 "cells": [
  {
   "cell_type": "code",
   "execution_count": 37,
   "id": "6903af5d-b9be-4c09-9b68-74e0efb55476",
   "metadata": {},
   "outputs": [],
   "source": [
    "import numpy as np\n",
    "from scipy.stats import beta, binom\n",
    "from scipy.special import gamma as G\n",
    "import math\n",
    "from matplotlib import pyplot as plt"
   ]
  },
  {
   "cell_type": "code",
   "execution_count": 38,
   "id": "5d5c9263-7619-4166-9ef3-b97092e1cdb6",
   "metadata": {},
   "outputs": [],
   "source": [
    "n1 = 15\n",
    "y1 = 2\n",
    "a = 1\n",
    "b = 1\n",
    "n2 = 50"
   ]
  },
  {
   "cell_type": "code",
   "execution_count": 39,
   "id": "0dc07acb-a009-432a-8dfd-5492741122f9",
   "metadata": {},
   "outputs": [],
   "source": [
    "def binomial_coef(n, k):\n",
    "    return math.factorial(n) / (math.factorial(k) * math.factorial(n - k))"
   ]
  },
  {
   "cell_type": "code",
   "execution_count": 40,
   "id": "65ae27dc-01a3-4adb-8dff-963d27d6a1f3",
   "metadata": {},
   "outputs": [],
   "source": [
    "def diff_factorials(num, den):\n",
    "    res = 1\n",
    "    for i in range(num+1, den+1):\n",
    "        res *= i\n",
    "    return res"
   ]
  },
  {
   "cell_type": "markdown",
   "id": "513aa82e-3e69-4182-8f7e-72f54b66f713",
   "metadata": {},
   "source": [
    "### a) Posterior theta|y1"
   ]
  },
  {
   "cell_type": "code",
   "execution_count": 41,
   "id": "30c46585-6ba5-451c-a5be-b5cd803f4d14",
   "metadata": {},
   "outputs": [
    {
     "name": "stdout",
     "output_type": "stream",
     "text": [
      "Posterior(theta|y1): Mean 0.176, mode 0.131, variance 0.008\n"
     ]
    }
   ],
   "source": [
    "theta_y1 = beta(a=a+y1, b=b+n1-y1)\n",
    "x = np.linspace(theta_y1.ppf(0.0), theta_y1.ppf(1), 100)\n",
    "print('Posterior(theta|y1): Mean {:.3f}, mode {:.3f}, variance {:.3f}'.format(theta_y1.mean(), \n",
    "                                                x[np.argmax(theta_y1.pdf(x))], theta_y1.var()))"
   ]
  },
  {
   "cell_type": "code",
   "execution_count": 42,
   "id": "66f21623-513b-4d2a-b892-f2d15973c47d",
   "metadata": {},
   "outputs": [
    {
     "data": {
      "image/png": "[encoded data removed]",
      "text/plain": [
       "<Figure size 720x216 with 1 Axes>"
      ]
     },
     "metadata": {
      "needs_background": "light"
     },
     "output_type": "display_data"
    }
   ],
   "source": [
    "plt.figure(figsize = (10,3))\n",
    "plt.plot(x, theta_y1.pdf(x), label = 'Posterior \\n mean {:.3f}, \\n mode {:.3f}, \\n variance {:.3f}'.format(theta_y1.mean(), \n",
    "                                                x[np.argmax(theta_y1.pdf(x))], theta_y1.var()))\n",
    "plt.xlabel('Theta')\n",
    "plt.ylabel('Probability')\n",
    "plt.legend()\n",
    "plt.savefig('/nfs/scistore12/gaspgrp/emaksimo/courses/CompBayesStat/plots/Ex1_6_Fig1.png')"
   ]
  },
  {
   "cell_type": "markdown",
   "id": "f2d7fc2a-149d-4f3a-90f5-f01d9511774b",
   "metadata": {},
   "source": [
    "### b-c) Pr(Y2|Y1=2) "
   ]
  },
  {
   "cell_type": "code",
   "execution_count": 44,
   "id": "9c1667bd-14c4-43bc-98a3-8fe1d9bd7ae3",
   "metadata": {},
   "outputs": [
    {
     "data": {
      "image/png": "[encoded data removed]",
      "text/plain": [
       "<Figure size 720x216 with 1 Axes>"
      ]
     },
     "metadata": {
      "needs_background": "light"
     },
     "output_type": "display_data"
    }
   ],
   "source": [
    "plt.figure(figsize = (10,3))\n",
    "plt.suptitle('n2 = {}'.format(n2))\n",
    "\n",
    "for y2 in np.arange(0, n2-13, 1):\n",
    "    c1 = G(17)/(G(14)*G(3))\n",
    "    c2 = binomial_coef(n2, y2)\n",
    "    c3 = G(y2+3)*G(n2-y2+14)/G(n2+17)\n",
    "    # c_Y2Y1 = G(y2+3)*  diff_factorials(n2-y2-12, n2-9)\n",
    "    Y2_Y1 = c1*c2*c3\n",
    "    plt.scatter(y2, Y2_Y1, label = 'y2 = {}'.format(y2), color='k')\n",
    "\n",
    "plt.xlabel('Y2')\n",
    "plt.ylabel('Pr(Y2|Y1)')\n",
    "# plt.legend()\n",
    "    \n",
    "plt.savefig('/nfs/scistore12/gaspgrp/emaksimo/courses/CompBayesStat/plots/Ex1_6_Fig2.png')"
   ]
  },
  {
   "cell_type": "code",
   "execution_count": 21,
   "id": "90fb3f7b-d1a1-4116-a027-acd2ea08ed1c",
   "metadata": {},
   "outputs": [
    {
     "data": {
      "text/plain": [
       "1.0"
      ]
     },
     "execution_count": 21,
     "metadata": {},
     "output_type": "execute_result"
    }
   ],
   "source": [
    "y2=2\n",
    "beta.cdf(x=1, a=1+n2+y1, b=1+n1+n2-y1-y2)"
   ]
  },
  {
   "cell_type": "code",
   "execution_count": null,
   "id": "b90087ac-e651-4999-af72-14558b267c2f",
   "metadata": {},
   "outputs": [],
   "source": []
  }
 ],
 "metadata": {
  "kernelspec": {
   "display_name": "Python 3 (ipykernel)",
   "language": "python",
   "name": "python3"
  },
  "language_info": {
   "codemirror_mode": {
    "name": "ipython",
    "version": 3
   },
   "file_extension": ".py",
   "mimetype": "text/x-python",
   "name": "python",
   "nbconvert_exporter": "python",
   "pygments_lexer": "ipython3",
   "version": "3.9.9"
  }
 },
 "nbformat": 4,
 "nbformat_minor": 5
}
