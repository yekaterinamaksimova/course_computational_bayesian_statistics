{
 "cells": [
  {
   "cell_type": "code",
   "execution_count": 3,
   "id": "c09663c5-2acb-4086-9806-e6f692af242d",
   "metadata": {},
   "outputs": [],
   "source": [
    "import numpy as np\n",
    "# import pandas as pd\n",
    "# import seaborn as sns\n",
    "from matplotlib import pyplot as plt\n",
    "from scipy.stats import binom, beta, uniform\n",
    "from scipy.special import gamma"
   ]
  },
  {
   "cell_type": "code",
   "execution_count": 5,
   "id": "c97c20df-b6ee-4b30-94f5-69fef2d1bb17",
   "metadata": {},
   "outputs": [],
   "source": [
    "sumY = 57\n",
    "n = 100\n",
    "\n",
    "sumY2 = 30\n",
    "n2 = 50\n",
    "size=10000\n",
    "\n",
    "a0=1\n",
    "b0=1"
   ]
  },
  {
   "cell_type": "code",
   "execution_count": null,
   "id": "61b228ab-bb6f-4518-b24c-16ff85ad9656",
   "metadata": {},
   "outputs": [],
   "source": []
  },
  {
   "cell_type": "markdown",
   "id": "25a63a4d-2c91-4c06-afb6-021ba77007ab",
   "metadata": {},
   "source": [
    "### Posterior theta is beta(1+sumY,1+n-sumY)"
   ]
  },
  {
   "cell_type": "code",
   "execution_count": 13,
   "id": "6e503a8e-b0b7-4ee5-9c9e-88905877e7c2",
   "metadata": {},
   "outputs": [],
   "source": [
    "x = np.linspace(0,1,100)\n",
    "theta1 = beta.rvs(a=sumY+1, b=n-sumY+1, size=size)\n",
    "theta2 = beta.rvs(a=sumY2+1, b=n2-sumY2+1, size=size)"
   ]
  },
  {
   "cell_type": "markdown",
   "id": "9fa43e07-544b-4ecf-8a88-e02ec3fe8ca2",
   "metadata": {},
   "source": [
    "### Final plot"
   ]
  },
  {
   "cell_type": "code",
   "execution_count": 17,
   "id": "af8426d9-ef0a-44d9-8b84-d155acec89ca",
   "metadata": {},
   "outputs": [
    {
     "data": {
      "image/png": "[encoded data removed]",
      "text/plain": [
       "<Figure size 432x288 with 1 Axes>"
      ]
     },
     "metadata": {
      "needs_background": "light"
     },
     "output_type": "display_data"
    }
   ],
   "source": [
    "plt.figure(figsize = (6,4))\n",
    "# plt.suptitle('Probability of sum(Y)=57 given theta')\n",
    "plt.hist(theta1, density=True, alpha=0.3, label = '$\\\\theta_1$: mean {:.2f}, std {:.2f}'. format(np.mean(theta1), np.std(theta1)))\n",
    "plt.hist(theta2, density=True, alpha=0.3, label = '$\\\\theta_2$: mean {:.2f}, std {:.2f}'. format(np.mean(theta2), np.std(theta2)))\n",
    "plt.plot(x, beta.pdf(x, a=sumY+1, b=n-sumY+1), color='C0')\n",
    "plt.plot(x, beta.pdf(x, a=sumY2+1, b=n2-sumY2+1), color = 'C1')\n",
    "\n",
    "plt.xlabel('Theta')\n",
    "plt.ylabel('Probability')\n",
    "plt.legend()\n",
    "plt.savefig('/nfs/scistore12/gaspgrp/emaksimo/courses/CompBayesStat/plots/Ex3_2_Fig1.png')"
   ]
  },
  {
   "cell_type": "code",
   "execution_count": 18,
   "id": "bc85179d-6f11-45e8-8c04-fd79fcc2200f",
   "metadata": {},
   "outputs": [
    {
     "data": {
      "text/plain": [
       "0.6308"
      ]
     },
     "execution_count": 18,
     "metadata": {},
     "output_type": "execute_result"
    }
   ],
   "source": [
    "np.sum(theta1<theta2)/size"
   ]
  },
  {
   "cell_type": "code",
   "execution_count": null,
   "id": "8c90710d-a3a1-47f2-ad58-5a50fdae74bd",
   "metadata": {},
   "outputs": [],
   "source": []
  }
 ],
 "metadata": {
  "kernelspec": {
   "display_name": "Python 3 (ipykernel)",
   "language": "python",
   "name": "python3"
  },
  "language_info": {
   "codemirror_mode": {
    "name": "ipython",
    "version": 3
   },
   "file_extension": ".py",
   "mimetype": "text/x-python",
   "name": "python",
   "nbconvert_exporter": "python",
   "pygments_lexer": "ipython3",
   "version": "3.9.9"
  }
 },
 "nbformat": 4,
 "nbformat_minor": 5
}
