{
 "cells": [
  {
   "cell_type": "code",
   "execution_count": 1,
   "id": "6903af5d-b9be-4c09-9b68-74e0efb55476",
   "metadata": {},
   "outputs": [],
   "source": [
    "import numpy as np\n",
    "from scipy.stats import invgamma, norm\n",
    "from matplotlib import pyplot as plt"
   ]
  },
  {
   "cell_type": "code",
   "execution_count": 32,
   "id": "8d10f951-dfe1-486a-8f37-ade8167abea0",
   "metadata": {},
   "outputs": [],
   "source": [
    "plt.rcParams.update({\n",
    "  \"text.usetex\": True,\n",
    "  \"font.family\": \"Helvetica\",\n",
    "  'font.size': 12,\n",
    "    'figure.titlesize': 14,\n",
    "    'legend.fontsize': 11\n",
    "})"
   ]
  },
  {
   "cell_type": "code",
   "execution_count": 26,
   "id": "8adb306e-a9fb-426b-a35d-82f2fde1038a",
   "metadata": {},
   "outputs": [],
   "source": [
    "def update_parameters(mu0,sigma0,k0,v0,n,meanY,s):\n",
    "    kn = np.array([k0 + n[i] for i in range(2)])\n",
    "    mun = np.array([(k0*mu0 + n[i]*meanY[i])/kn[i] for i in range(2)])\n",
    "    vn = np.array([v0 + n[i] for i in range(2)])\n",
    "    sigman = np.array([(v0*sigma0 + (n[i]-1)*s[i] + k0*n[i]*(meanY[i]-mu0)**2/kn[i]) \n",
    "                       for i in range(2)])\n",
    "    return kn, mun, vn, sigman"
   ]
  },
  {
   "cell_type": "code",
   "execution_count": 27,
   "id": "edf916e4-960b-4f87-bb07-e807416abca6",
   "metadata": {},
   "outputs": [],
   "source": [
    "def MC_sample(kn, mun, vn, sigman, size):    \n",
    "    sigma = invgamma.rvs(a=vn/2, scale=2/(vn*sigman), size=size) # ? scale ?\n",
    "    theta = norm.rvs(loc=mun, scale=np.sqrt(sigman/kn), size=size)\n",
    "    Ytilda = norm.rvs(loc=theta, scale=np.sqrt(sigma), size=size)\n",
    "    return theta, sigma, Ytilda"
   ]
  },
  {
   "cell_type": "code",
   "execution_count": 33,
   "id": "0f93221e-ca18-4c54-852f-48e4258eb7d9",
   "metadata": {},
   "outputs": [],
   "source": [
    "n = np.array([16,16])\n",
    "meanY = np.array([75.2, 77.5])\n",
    "s = np.array([7.3, 8.1])\n",
    "mu0 = 75\n",
    "sigma0 = 100\n",
    "n_points = 13\n",
    "k0 = np.array([2**i for i in range(n_points)])\n",
    "v0 = np.array([2**i for i in range(n_points)])\n",
    "size = 10000"
   ]
  },
  {
   "cell_type": "markdown",
   "id": "2b8294b7-54a0-4dea-bde5-24964218b270",
   "metadata": {},
   "source": [
    "### b) Apply MC sampler"
   ]
  },
  {
   "cell_type": "code",
   "execution_count": 34,
   "id": "b32baf6a-d67d-4fcf-b969-838ac9a5e2a7",
   "metadata": {},
   "outputs": [],
   "source": [
    "res = np.zeros(n_points)\n",
    "for j in range(n_points):\n",
    "    theta = np.zeros((2, size))\n",
    "    kn, mun, vn, sigman = update_parameters(mu0,sigma0,k0[j],v0[j],n,meanY,s)\n",
    "    for i in range(2):\n",
    "        theta[i], _, _ = MC_sample(kn=kn[i], mun=mun[i], vn=vn[i], sigman=sigman[i], size=size)\n",
    "    res[j] = np.sum((theta[0]<theta[1]))/size"
   ]
  },
  {
   "cell_type": "code",
   "execution_count": 35,
   "id": "a72859a7-9146-41cc-a690-a311d0441b56",
   "metadata": {},
   "outputs": [
    {
     "data": {
      "text/plain": [
       "array([0.6721, 0.6336, 0.5946, 0.5637, 0.5407, 0.5289, 0.5052, 0.5059,\n",
       "       0.509 , 0.5044, 0.5023, 0.5088, 0.5032])"
      ]
     },
     "execution_count": 35,
     "metadata": {},
     "output_type": "execute_result"
    }
   ],
   "source": [
    "res"
   ]
  },
  {
   "cell_type": "code",
   "execution_count": 36,
   "id": "bda6c641-4445-4f33-af1c-a1eace141597",
   "metadata": {},
   "outputs": [
    {
     "data": {
      "image/png": "[encoded data removed]",
      "text/plain": [
       "<Figure size 504x360 with 1 Axes>"
      ]
     },
     "metadata": {
      "needs_background": "light"
     },
     "output_type": "display_data"
    }
   ],
   "source": [
    "plt.figure(figsize = (7,5))\n",
    "\n",
    "for i in range(n_points):\n",
    "    plt.scatter(k0[i], res[i], s = 20, label = '$k_0=v_0={}$'.format(k0[i]))\n",
    "plt.vlines(n[0], min(res), max(res), ls = '--',color = 'k', label = 'n = 16')\n",
    "plt.xscale('log')\n",
    "plt.legend()\n",
    "# loc='center left', bbox_to_anchor=(1, 0.5)\n",
    "plt.xlabel('Prior sample size $k_0 (v_0)$')\n",
    "plt.ylabel('$Pr(\\\\theta_A < \\\\theta_B | y_A, y_B)$')\n",
    "\n",
    "plt.savefig('/nfs/scistore12/gaspgrp/emaksimo/courses/CompBayesStat/plots/Ex2_3_Fig1.png')"
   ]
  },
  {
   "cell_type": "code",
   "execution_count": null,
   "id": "0127bc1b-c6aa-4cba-bacb-a85cbf3d4227",
   "metadata": {},
   "outputs": [],
   "source": []
  }
 ],
 "metadata": {
  "kernelspec": {
   "display_name": "Python 3 (ipykernel)",
   "language": "python",
   "name": "python3"
  },
  "language_info": {
   "codemirror_mode": {
    "name": "ipython",
    "version": 3
   },
   "file_extension": ".py",
   "mimetype": "text/x-python",
   "name": "python",
   "nbconvert_exporter": "python",
   "pygments_lexer": "ipython3",
   "version": "3.9.9"
  }
 },
 "nbformat": 4,
 "nbformat_minor": 5
}
