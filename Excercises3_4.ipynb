{
 "cells": [
  {
   "cell_type": "code",
   "execution_count": 1,
   "id": "0a038fca-b832-48f6-bedb-0b16dae484c0",
   "metadata": {},
   "outputs": [],
   "source": [
    "import numpy as np\n",
    "from matplotlib import pyplot as plt\n",
    "from scipy.stats import binom, beta, uniform, gamma, poisson,nbinom"
   ]
  },
  {
   "cell_type": "code",
   "execution_count": 5,
   "id": "7b508b94-ee16-4fc7-a269-00d3363a9f89",
   "metadata": {},
   "outputs": [],
   "source": [
    "size=1000\n",
    "nA=10\n",
    "nB=13\n",
    "yA=np.array([12,9,12,14,13,13,15,8,15,6])\n",
    "yB=np.array([11,11,10,9,9,8,7,10,6,8,8,9,7])\n",
    "w=10"
   ]
  },
  {
   "cell_type": "code",
   "execution_count": 6,
   "id": "c15c1317-9318-41d0-8610-e03a6241fd3f",
   "metadata": {},
   "outputs": [],
   "source": [
    "thetaA_yA = gamma.rvs(a=120+sum(yA), scale=1/(10+len(yA)), size=size)\n",
    "# YtA = nbinom.rvs(n=120+sum(yA),p=(10+len(yA))/(10+len(yA)+1), size=size)\n",
    "YtA = poisson.rvs(thetaA_yA, size=size)\n",
    "\n",
    "thetaB_yB = gamma.rvs(a=12+sum(yB), scale=1/(1+len(yB)), size=size)\n",
    "# YtA = nbinom.rvs(n=120+sum(yA),p=(10+len(yA))/(10+len(yA)+1), size=size)\n",
    "YtB = poisson.rvs(thetaB_yB, size=size)"
   ]
  },
  {
   "cell_type": "code",
   "execution_count": 11,
   "id": "aacf6c1f-9f12-4d08-b0e5-1e7abdf5ced9",
   "metadata": {},
   "outputs": [],
   "source": [
    "t = np.zeros((2, size-w))\n",
    "for s in range(size-w):\n",
    "    t[0, s] = np.mean(YtA[s:s+w])/np.std(YtA[s:s+w])\n",
    "    t[1, s] = np.mean(YtB[s:s+w])/np.std(YtB[s:s+w])\n",
    "t_obs_A = np.mean(yA)/np.std(yA)\n",
    "t_obs_B = np.mean(yB)/np.std(yB)"
   ]
  },
  {
   "cell_type": "code",
   "execution_count": 26,
   "id": "b0493a3a-8ccf-4436-9ebc-b6a82851a95b",
   "metadata": {},
   "outputs": [
    {
     "data": {
      "image/png": "[encoded data removed]",
      "text/plain": [
       "<Figure size 432x288 with 1 Axes>"
      ]
     },
     "metadata": {
      "needs_background": "light"
     },
     "output_type": "display_data"
    }
   ],
   "source": [
    "plt.figure(figsize = (6,4))\n",
    "# plt.suptitle('Probability of sum(Y)=57 given theta')\n",
    "plt.hist(t[0],bins = np.arange(1,10), density=True, alpha=0.3, label = '$t^{(s)}_A$')\n",
    "plt.vlines(t_obs_A, 0, 0.5, color='C0', label = '$t_{A}^{observed}$')\n",
    "plt.hist(t[1], bins = np.arange(1,10), density=True, alpha=0.3, label = '$t^{(s)}_B$')\n",
    "plt.vlines(t_obs_B, 0, 0.5, color='C1', label = '$t_{B}^{observed}$')\n",
    "# plt.plot(x, beta.pdf(x, a=sumY+1, b=n-sumY+1), color='C0')\n",
    "# plt.plot(x, beta.pdf(x, a=sumY2+1, b=n2-sumY2+1), color = 'C1')\n",
    "\n",
    "plt.xlabel('t = z-score statistics')\n",
    "plt.ylabel('Probability')\n",
    "plt.legend(fontsize = 12)\n",
    "plt.savefig('/nfs/scistore12/gaspgrp/emaksimo/courses/CompBayesStat/plots/Ex3_4_Fig1.png')"
   ]
  },
  {
   "cell_type": "code",
   "execution_count": 22,
   "id": "c8c72543-352c-403d-9b1b-e2ff6b64221e",
   "metadata": {},
   "outputs": [
    {
     "data": {
      "text/plain": [
       "8.294117647058822"
      ]
     },
     "execution_count": 22,
     "metadata": {},
     "output_type": "execute_result"
    }
   ],
   "source": [
    "max(t[0])"
   ]
  },
  {
   "cell_type": "code",
   "execution_count": null,
   "id": "b0b117f8-9863-493a-8208-948fb4d61b80",
   "metadata": {},
   "outputs": [],
   "source": []
  }
 ],
 "metadata": {
  "kernelspec": {
   "display_name": "Python 3 (ipykernel)",
   "language": "python",
   "name": "python3"
  },
  "language_info": {
   "codemirror_mode": {
    "name": "ipython",
    "version": 3
   },
   "file_extension": ".py",
   "mimetype": "text/x-python",
   "name": "python",
   "nbconvert_exporter": "python",
   "pygments_lexer": "ipython3",
   "version": "3.9.9"
  }
 },
 "nbformat": 4,
 "nbformat_minor": 5
}
